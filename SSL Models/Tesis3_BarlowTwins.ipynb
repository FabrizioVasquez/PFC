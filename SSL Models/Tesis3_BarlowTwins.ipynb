{
  "cells": [
    {
      "cell_type": "code",
      "execution_count": 1,
      "metadata": {},
      "outputs": [],
      "source": [
        "import pandas as pd\n",
        "import numpy as np\n",
        "import pickle\n",
        "import os\n",
        "import scipy.signal as scisig\n",
        "import matplotlib.pyplot as plt\n",
        "import seaborn as sns\n",
        "from scipy import stats\n",
        "import neurokit2 as nk\n",
        "from biosppy.signals import ecg, resp\n",
        "\n",
        "sns.set_palette(\"colorblind\")"
      ]
    },
    {
      "cell_type": "code",
      "execution_count": 2,
      "metadata": {},
      "outputs": [],
      "source": [
        "file_name = \"../WESAD/S2/S2\"\n",
        "\n",
        "with open(f\"{file_name}.pkl\", 'rb') as f:\n",
        "    s_data = pickle.load(f, encoding=\"latin1\")"
      ]
    },
    {
      "cell_type": "code",
      "execution_count": 3,
      "metadata": {},
      "outputs": [
        {
          "data": {
            "text/html": [
              "<div>\n",
              "<style scoped>\n",
              "    .dataframe tbody tr th:only-of-type {\n",
              "        vertical-align: middle;\n",
              "    }\n",
              "\n",
              "    .dataframe tbody tr th {\n",
              "        vertical-align: top;\n",
              "    }\n",
              "\n",
              "    .dataframe thead th {\n",
              "        text-align: right;\n",
              "    }\n",
              "</style>\n",
              "<table border=\"1\" class=\"dataframe\">\n",
              "  <thead>\n",
              "    <tr style=\"text-align: right;\">\n",
              "      <th></th>\n",
              "      <th>EDA</th>\n",
              "      <th>label</th>\n",
              "    </tr>\n",
              "  </thead>\n",
              "  <tbody>\n",
              "    <tr>\n",
              "      <th>0</th>\n",
              "      <td>5.250549</td>\n",
              "      <td>0</td>\n",
              "    </tr>\n",
              "    <tr>\n",
              "      <th>1</th>\n",
              "      <td>5.267334</td>\n",
              "      <td>0</td>\n",
              "    </tr>\n",
              "    <tr>\n",
              "      <th>2</th>\n",
              "      <td>5.243301</td>\n",
              "      <td>0</td>\n",
              "    </tr>\n",
              "    <tr>\n",
              "      <th>3</th>\n",
              "      <td>5.249405</td>\n",
              "      <td>0</td>\n",
              "    </tr>\n",
              "    <tr>\n",
              "      <th>4</th>\n",
              "      <td>5.286407</td>\n",
              "      <td>0</td>\n",
              "    </tr>\n",
              "    <tr>\n",
              "      <th>...</th>\n",
              "      <td>...</td>\n",
              "      <td>...</td>\n",
              "    </tr>\n",
              "    <tr>\n",
              "      <th>4255295</th>\n",
              "      <td>0.400162</td>\n",
              "      <td>0</td>\n",
              "    </tr>\n",
              "    <tr>\n",
              "      <th>4255296</th>\n",
              "      <td>0.355911</td>\n",
              "      <td>0</td>\n",
              "    </tr>\n",
              "    <tr>\n",
              "      <th>4255297</th>\n",
              "      <td>0.360489</td>\n",
              "      <td>0</td>\n",
              "    </tr>\n",
              "    <tr>\n",
              "      <th>4255298</th>\n",
              "      <td>0.365829</td>\n",
              "      <td>0</td>\n",
              "    </tr>\n",
              "    <tr>\n",
              "      <th>4255299</th>\n",
              "      <td>0.365448</td>\n",
              "      <td>0</td>\n",
              "    </tr>\n",
              "  </tbody>\n",
              "</table>\n",
              "<p>2142701 rows × 2 columns</p>\n",
              "</div>"
            ],
            "text/plain": [
              "              EDA  label\n",
              "0        5.250549      0\n",
              "1        5.267334      0\n",
              "2        5.243301      0\n",
              "3        5.249405      0\n",
              "4        5.286407      0\n",
              "...           ...    ...\n",
              "4255295  0.400162      0\n",
              "4255296  0.355911      0\n",
              "4255297  0.360489      0\n",
              "4255298  0.365829      0\n",
              "4255299  0.365448      0\n",
              "\n",
              "[2142701 rows x 2 columns]"
            ]
          },
          "execution_count": 3,
          "metadata": {},
          "output_type": "execute_result"
        }
      ],
      "source": [
        "df_label = pd.DataFrame(s_data['label'])\n",
        "df_label.columns = ['label']\n",
        "df_label\n",
        "\n",
        "df_EDA = pd.DataFrame(s_data['signal']['chest']['EDA'])\n",
        "df_EDA.columns = ['EDA']\n",
        "\n",
        "df_EdaLabel = pd.concat([df_EDA, df_label], axis=1)\n",
        "df_EdaLabel1 = df_EdaLabel.query('label == 0')\n",
        "df_EdaLabel2 = df_EdaLabel.query('label == 1')\n",
        "df_EdaLabel1"
      ]
    },
    {
      "cell_type": "code",
      "execution_count": 4,
      "metadata": {},
      "outputs": [
        {
          "data": {
            "text/html": [
              "<div>\n",
              "<style scoped>\n",
              "    .dataframe tbody tr th:only-of-type {\n",
              "        vertical-align: middle;\n",
              "    }\n",
              "\n",
              "    .dataframe tbody tr th {\n",
              "        vertical-align: top;\n",
              "    }\n",
              "\n",
              "    .dataframe thead th {\n",
              "        text-align: right;\n",
              "    }\n",
              "</style>\n",
              "<table border=\"1\" class=\"dataframe\">\n",
              "  <thead>\n",
              "    <tr style=\"text-align: right;\">\n",
              "      <th></th>\n",
              "      <th>route</th>\n",
              "      <th>label</th>\n",
              "      <th>split</th>\n",
              "    </tr>\n",
              "  </thead>\n",
              "  <tbody>\n",
              "    <tr>\n",
              "      <th>0</th>\n",
              "      <td>../imgSpectograms/spect_s1_0.png</td>\n",
              "      <td>0</td>\n",
              "      <td>Train</td>\n",
              "    </tr>\n",
              "    <tr>\n",
              "      <th>1</th>\n",
              "      <td>../imgSpectograms/spect_s1_2800.png</td>\n",
              "      <td>0</td>\n",
              "      <td>Train</td>\n",
              "    </tr>\n",
              "    <tr>\n",
              "      <th>2</th>\n",
              "      <td>../imgSpectograms/spect_s1_5600.png</td>\n",
              "      <td>0</td>\n",
              "      <td>Train</td>\n",
              "    </tr>\n",
              "    <tr>\n",
              "      <th>3</th>\n",
              "      <td>../imgSpectograms/spect_s1_8400.png</td>\n",
              "      <td>0</td>\n",
              "      <td>Test</td>\n",
              "    </tr>\n",
              "    <tr>\n",
              "      <th>4</th>\n",
              "      <td>../imgSpectograms/spect_s1_11200.png</td>\n",
              "      <td>0</td>\n",
              "      <td>Train</td>\n",
              "    </tr>\n",
              "    <tr>\n",
              "      <th>...</th>\n",
              "      <td>...</td>\n",
              "      <td>...</td>\n",
              "      <td>...</td>\n",
              "    </tr>\n",
              "    <tr>\n",
              "      <th>281</th>\n",
              "      <td>../imgSpectograms/spect_s2_786800.png</td>\n",
              "      <td>1</td>\n",
              "      <td>Train</td>\n",
              "    </tr>\n",
              "    <tr>\n",
              "      <th>282</th>\n",
              "      <td>../imgSpectograms/spect_s2_789600.png</td>\n",
              "      <td>1</td>\n",
              "      <td>Train</td>\n",
              "    </tr>\n",
              "    <tr>\n",
              "      <th>283</th>\n",
              "      <td>../imgSpectograms/spect_s2_792400.png</td>\n",
              "      <td>1</td>\n",
              "      <td>Train</td>\n",
              "    </tr>\n",
              "    <tr>\n",
              "      <th>284</th>\n",
              "      <td>../imgSpectograms/spect_s2_795200.png</td>\n",
              "      <td>1</td>\n",
              "      <td>Test</td>\n",
              "    </tr>\n",
              "    <tr>\n",
              "      <th>285</th>\n",
              "      <td>../imgSpectograms/spect_s2_798000.png</td>\n",
              "      <td>1</td>\n",
              "      <td>Train</td>\n",
              "    </tr>\n",
              "  </tbody>\n",
              "</table>\n",
              "<p>1052 rows × 3 columns</p>\n",
              "</div>"
            ],
            "text/plain": [
              "                                     route  label  split\n",
              "0         ../imgSpectograms/spect_s1_0.png      0  Train\n",
              "1      ../imgSpectograms/spect_s1_2800.png      0  Train\n",
              "2      ../imgSpectograms/spect_s1_5600.png      0  Train\n",
              "3      ../imgSpectograms/spect_s1_8400.png      0   Test\n",
              "4     ../imgSpectograms/spect_s1_11200.png      0  Train\n",
              "..                                     ...    ...    ...\n",
              "281  ../imgSpectograms/spect_s2_786800.png      1  Train\n",
              "282  ../imgSpectograms/spect_s2_789600.png      1  Train\n",
              "283  ../imgSpectograms/spect_s2_792400.png      1  Train\n",
              "284  ../imgSpectograms/spect_s2_795200.png      1   Test\n",
              "285  ../imgSpectograms/spect_s2_798000.png      1  Train\n",
              "\n",
              "[1052 rows x 3 columns]"
            ]
          },
          "execution_count": 4,
          "metadata": {},
          "output_type": "execute_result"
        }
      ],
      "source": [
        "from numpy.random import choice\n",
        "\n",
        "arrRoute1 = []\n",
        "arrLabel1 = []\n",
        "arrRoute2 = []\n",
        "arrLabel2 = []\n",
        "\n",
        "for i in range(0, len(df_EdaLabel1), 2800):\n",
        "    figName = '../imgSpectograms/spect_s1_' + str(i) + '.png'\n",
        "    arrRoute1.append(figName)\n",
        "    arrLabel1.append(0)\n",
        "\n",
        "for i in range(0, len(df_EdaLabel2), 2800):\n",
        "    figName = '../imgSpectograms/spect_s2_' + str(i) + '.png'\n",
        "    arrRoute2.append(figName)\n",
        "    arrLabel2.append(1)\n",
        "\n",
        "df1r = pd.DataFrame(arrRoute1, columns=['route'])\n",
        "df1l = pd.DataFrame(arrLabel1, columns=['label'])\n",
        "df2r = pd.DataFrame(arrRoute2, columns=['route'])\n",
        "df2l = pd.DataFrame(arrLabel2, columns=['label'])\n",
        "\n",
        "df1 = pd.concat([df1r, df1l], axis=1)\n",
        "df1['split'] = choice(['Train', 'Test'], len(df1), p=[0.8, 0.2])\n",
        "df2 = pd.concat([df2r, df2l], axis=1)\n",
        "df2['split'] = choice(['Train', 'Test'], len(df2), p=[0.8, 0.2])\n",
        "\n",
        "df = pd.concat([df1, df2])\n",
        "\n",
        "df"
      ]
    },
    {
      "cell_type": "code",
      "execution_count": 5,
      "metadata": {
        "id": "se-ZCAe7DJOM"
      },
      "outputs": [],
      "source": [
        "import torch\n",
        "import torchvision\n",
        "import numpy as np\n",
        "from numpy import asarray\n",
        "from keras.preprocessing.image import load_img\n",
        "from keras.preprocessing.image import img_to_array\n",
        "from keras.preprocessing.image import array_to_img\n",
        "\n",
        "class Dataset(torch.utils.data.Dataset):\n",
        "    def __init__(self, train=True, pctg=1.):\n",
        "        self.classes = (0, 1)\n",
        "        imgArr = []\n",
        "        if train == True:\n",
        "            df = df.query('split == \"Train\"')\n",
        "            for i in df['route']:\n",
        "                img = load_img(i)\n",
        "                img_array = img_to_array(img)\n",
        "                imgArr.append(img_array)\n",
        "        else:\n",
        "            df = df.query('split == \"Test\"')\n",
        "            for i in df['route']:\n",
        "                img = load_img(i)\n",
        "                img_array = img_to_array(img)\n",
        "                imgArr.append(img_array)\n",
        "        self.imgs = imgArr\n",
        "        self.labels = df['label'].to_numpy()\n",
        "        if pctg < 1.:\n",
        "            unique_labels = list(range(len(self.classes)))\n",
        "            filtered_imgs, filtered_labels = [], []\n",
        "            for lab in unique_labels:\n",
        "                ixs = (self.labels == lab)\n",
        "                lim = int(ixs.sum()*pctg)\n",
        "                filtered_imgs += self.imgs[ixs][:lim].tolist()\n",
        "                filtered_labels += self.labels[ixs][:lim].tolist()\n",
        "            self.imgs, self.labels = np.array(filtered_imgs), np.array(filtered_labels)\n",
        "    def __len__(self):\n",
        "        return len(self.imgs)\n",
        "    def __getitem__(self, ix):\n",
        "        img = self.imgs[ix]\n",
        "        return torch.from_numpy(img / 255.).permute(2,0,1).float(), torch.tensor(self.labels[ix]).long()\n",
        "\n",
        "class SSLDataset(torch.utils.data.Dataset):\n",
        "    def __init__(self, trans):\n",
        "        self.trans = trans\n",
        "        imgArr = []\n",
        "        for i in df['route']:\n",
        "            img = load_img(i)\n",
        "            img_array = img_to_array(img)\n",
        "            imgArr.append(img_array)\n",
        "        self.imgs = imgArr\n",
        "        self.labels = df['label'].to_numpy()\n",
        "    def __len__(self):\n",
        "        return len(self.imgs)\n",
        "    def __getitem__(self, ix):\n",
        "        img = self.imgs[ix]\n",
        "        img1 = self.trans(image=img)['image']\n",
        "        img2 = self.trans(image=img)['image']\n",
        "        return torch.from_numpy(img1 / 255.).permute(2,0,1).float(), torch.from_numpy(img2 / 255.).permute(2,0,1).float()"
      ]
    },
    {
      "cell_type": "code",
      "execution_count": 6,
      "metadata": {
        "id": "6H9cT0fEHA_I"
      },
      "outputs": [],
      "source": [
        "batch_size = 1024\n",
        "num_workers = 24"
      ]
    },
    {
      "cell_type": "code",
      "execution_count": 7,
      "metadata": {
        "id": "8xOsdheSMnMP"
      },
      "outputs": [],
      "source": [
        "import torch.nn.functional as F\n",
        "from tqdm import tqdm\n",
        "import pandas as pd\n",
        "\n",
        "def step(model, batch, device):\n",
        "    x, y = batch\n",
        "    x, y = x.to(device), y.to(device)\n",
        "    y_hat = model(x)\n",
        "    loss = F.cross_entropy(y_hat, y)\n",
        "    acc = (torch.argmax(y_hat, axis=1) == y).sum().item() / y.size(0)\n",
        "    return loss, acc\n",
        "\n",
        "def train(model, dl, optimizer, epochs=10, device=\"cuda\"):\n",
        "    model.to(device)\n",
        "    hist = {'loss': [], 'acc': [], 'test_loss': [], 'test_acc': []}\n",
        "    for e in range(1, epochs+1):\n",
        "        # train\n",
        "        model.train()\n",
        "        l, a = [], []\n",
        "        bar = tqdm(dl['train'])\n",
        "        for batch in bar:\n",
        "            optimizer.zero_grad()\n",
        "            loss, acc = step(model, batch, device)\n",
        "            loss.backward()\n",
        "            optimizer.step()\n",
        "            l.append(loss.item())\n",
        "            a.append(acc)\n",
        "            bar.set_description(f\"training... loss {np.mean(l):.4f} acc {np.mean(a):.4f}\")\n",
        "        hist['loss'].append(np.mean(l))\n",
        "        hist['acc'].append(np.mean(a))\n",
        "        # eval\n",
        "        model.eval()\n",
        "        l, a = [], []\n",
        "        bar = tqdm(dl['test'])\n",
        "        with torch.no_grad():\n",
        "            for batch in bar:\n",
        "                loss, acc = step(model, batch, device)\n",
        "                l.append(loss.item())\n",
        "                a.append(acc)\n",
        "                bar.set_description(f\"testing... loss {np.mean(l):.4f} acc {np.mean(a):.4f}\")\n",
        "        hist['test_loss'].append(np.mean(l))\n",
        "        hist['test_acc'].append(np.mean(a))\n",
        "        # log\n",
        "        log = f'Epoch {e}/{epochs}'\n",
        "        for k, v in hist.items():\n",
        "            log += f' {k} {v[-1]:.4f}'\n",
        "        print(log)\n",
        "    return hist\n",
        "\n",
        "def plot_hist(hist):\n",
        "  fig = plt.figure(figsize=(10, 3), dpi=100)\n",
        "  df = pd.DataFrame(hist)\n",
        "  ax = plt.subplot(1, 2, 1)\n",
        "  df[['loss', 'test_loss']].plot(ax=ax)\n",
        "  ax.grid(True)\n",
        "  ax = plt.subplot(1, 2, 2)\n",
        "  df[['acc', 'test_acc']].plot(ax=ax)\n",
        "  ax.grid(True)\n",
        "  plt.show()"
      ]
    },
    {
      "cell_type": "code",
      "execution_count": 8,
      "metadata": {
        "colab": {
          "base_uri": "https://localhost:8080/"
        },
        "id": "UpuzTfTNElyj",
        "outputId": "eb079c93-814e-4e26-f563-6ea354c8fc23"
      },
      "outputs": [],
      "source": [
        "import albumentations as A\n",
        "\n",
        "trans = A.Compose([\n",
        "    A.RandomResizedCrop(32, 32),\n",
        "    A.HorizontalFlip(p=0.5),\n",
        "    #A.ColorJitter(p=0.3),\n",
        "    #A.ToGray(p=0.3),\n",
        "    A.GaussianBlur(),\n",
        "    #A.Solarize(p=0.3)\n",
        "])\n",
        "\n",
        "SSLds = SSLDataset(trans)"
      ]
    },
    {
      "cell_type": "code",
      "execution_count": 9,
      "metadata": {
        "colab": {
          "base_uri": "https://localhost:8080/",
          "height": 175
        },
        "id": "rw-G2NpFGw5P",
        "outputId": "40b8a840-6992-4efd-fa76-0dec6f7613ca"
      },
      "outputs": [
        {
          "data": {
            "image/png": "[encoded data removed]",
            "text/plain": [
              "<Figure size 320x240 with 2 Axes>"
            ]
          },
          "metadata": {},
          "output_type": "display_data"
        }
      ],
      "source": [
        "import matplotlib.pyplot as plt\n",
        "import random\n",
        "\n",
        "ix = random.randint(0, len(SSLds))\n",
        "img1, img2 = SSLds[ix]\n",
        "fig = plt.figure(dpi=50)\n",
        "ax = plt.subplot(1, 2, 1)\n",
        "ax.imshow(img1.permute(1,2,0))\n",
        "ax.axis('off')\n",
        "ax = plt.subplot(1, 2, 2)\n",
        "ax.imshow(img2.permute(1,2,0))\n",
        "ax.axis('off')\n",
        "plt.tight_layout()\n",
        "plt.show()"
      ]
    },
    {
      "cell_type": "code",
      "execution_count": 10,
      "metadata": {
        "id": "vUiglMITG2Ry"
      },
      "outputs": [],
      "source": [
        "class SSLModel(torch.nn.Module):\n",
        "\n",
        "    def __init__(self, f=512):\n",
        "        super().__init__()\n",
        "        self.backbone = torch.nn.Sequential(*list(torchvision.models.resnet18().children())[:-1])\n",
        "        self.head = torch.nn.Sequential(\n",
        "            torch.nn.Flatten(),\n",
        "            torch.nn.Linear(512, f),\n",
        "            torch.nn.BatchNorm1d(f),\n",
        "            torch.nn.ReLU(),\n",
        "            torch.nn.Linear(f, f),\n",
        "            torch.nn.BatchNorm1d(f),\n",
        "            torch.nn.ReLU(),\n",
        "            torch.nn.Linear(f, f)\n",
        "        )\n",
        "\n",
        "    def forward(self, x):\n",
        "        x = self.backbone(x)\n",
        "        x = self.head(x)\n",
        "        return x"
      ]
    },
    {
      "cell_type": "code",
      "execution_count": 11,
      "metadata": {
        "colab": {
          "base_uri": "https://localhost:8080/"
        },
        "id": "La9AUGglJSCY",
        "outputId": "89e809a8-f282-4e22-fdf2-218bca154d93"
      },
      "outputs": [
        {
          "data": {
            "text/plain": [
              "torch.Size([32, 512])"
            ]
          },
          "execution_count": 11,
          "metadata": {},
          "output_type": "execute_result"
        }
      ],
      "source": [
        "SSLmodel = SSLModel()\n",
        "output = SSLmodel(torch.randn(32, 3, 32, 32))\n",
        "\n",
        "output.shape"
      ]
    },
    {
      "cell_type": "code",
      "execution_count": 12,
      "metadata": {
        "id": "GoOGRmbDJXOE"
      },
      "outputs": [],
      "source": [
        "import copy\n",
        "\n",
        "class FTModel(torch.nn.Module):\n",
        "\n",
        "    def __init__(self, backbone='SSLbackbone.pt', n_outputs=10):\n",
        "        super().__init__()\n",
        "        self.backbone = torch.jit.load(backbone)\n",
        "        for param in self.backbone.parameters():\n",
        "            param.requires_grad = False\n",
        "        self.head = torch.nn.Sequential(\n",
        "            torch.nn.Flatten(),\n",
        "            torch.nn.Linear(512, n_outputs)\n",
        "        )\n",
        "\n",
        "    def forward(self, x):\n",
        "        x = self.backbone(x)\n",
        "        x = self.head(x)\n",
        "        return x"
      ]
    },
    {
      "cell_type": "code",
      "execution_count": 13,
      "metadata": {
        "id": "bXTFMcbALPBd"
      },
      "outputs": [],
      "source": [
        "from tqdm import tqdm\n",
        "\n",
        "def SSLeval(SSLmodel):\n",
        "    torch.jit.script(SSLmodel.backbone.cpu()).save('SSLbackbone.pt')\n",
        "    ds = {\n",
        "        'train': Dataset(),\n",
        "        'test': Dataset(train=False)\n",
        "    }\n",
        "    batch_size = 1024\n",
        "    dl = {\n",
        "        'train': torch.utils.data.DataLoader(ds['train'], batch_size=batch_size, shuffle=True, num_workers=num_workers),\n",
        "        'test': torch.utils.data.DataLoader(ds['test'], batch_size=batch_size, shuffle=False, num_workers=num_workers)\n",
        "    }\n",
        "    FTmodel = FTModel('SSLbackbone.pt')\n",
        "    optimizer = torch.optim.Adam(FTmodel.parameters(), lr=1e-3)\n",
        "    hist = train(FTmodel, dl, optimizer, epochs=3)\n",
        "    return hist['acc'][-1], hist['test_acc'][-1]\n",
        "\n",
        "def SSLstep(model, batch, device, l=5e-3):\n",
        "    # Dos versiones aumentadas aleatoriamente de x\n",
        "    x1, x2 = batch\n",
        "    x1, x2 = x1.to(device), x2.to(device)\n",
        "\n",
        "    # Calcular representaciones\n",
        "    z1 = model(x1)\n",
        "    z2 = model(x2)\n",
        "\n",
        "    # normalizar repr. a lo largo de la dimensión del batch\n",
        "    N, D = z1.shape\n",
        "    z1_norm = (z1 - z1.mean(0)) / z1.std(0) # NxD\n",
        "    z2_norm = (z2 - z2.mean(0)) / z2.std(0) # NxD\n",
        "\n",
        "    # Matriz de cross-correlation\n",
        "    c = (z1_norm.T @ z2_norm) / N # DxD\n",
        "\n",
        "    # loss\n",
        "    c_diff = (c - torch.eye(D, device=device)).pow(2) # DxD\n",
        "\n",
        "    # multiplicar elementos fuera de la diagonal de c_diff por lambda\n",
        "    d = torch.eye(D, dtype=bool)\n",
        "    c_diff[~d] *= l\n",
        "    return c_diff.sum()\n",
        "\n",
        "def SSLtrain(model, dl, optimizer, scheduler, epochs=10, device=\"cuda\", eval_each=10):\n",
        "    hist = {'loss': [], 'acc': [], 'test_acc': []}\n",
        "    for e in range(1, epochs+1):\n",
        "        model.to(device)\n",
        "        # train\n",
        "        model.train()\n",
        "        l, a = [], []\n",
        "        bar = tqdm(dl)\n",
        "        for batch in bar:\n",
        "            optimizer.zero_grad()\n",
        "            loss = SSLstep(model, batch, device)\n",
        "            loss.backward()\n",
        "            optimizer.step()\n",
        "            l.append(loss.item())\n",
        "            bar.set_description(f\"training... loss {np.mean(l):.4f}\")\n",
        "        hist['loss'].append(np.mean(l))\n",
        "        scheduler.step()\n",
        "        # log\n",
        "        log = f'Epoch {e}/{epochs}'\n",
        "        for k, v in hist.items():\n",
        "            if len(v) > 0:\n",
        "                log += f' {k} {v[-1]:.4f}'\n",
        "        print(log)\n",
        "        # eval\n",
        "        if not e % eval_each:\n",
        "            print(\"evaluating ...\")\n",
        "            val_train_acc, val_test_acc = SSLeval(model)\n",
        "            hist['acc'].append(val_train_acc)\n",
        "            hist['test_acc'].append(val_test_acc)\n",
        "    return hist"
      ]
    },
    {
      "cell_type": "code",
      "execution_count": 14,
      "metadata": {},
      "outputs": [
        {
          "name": "stdout",
          "output_type": "stream",
          "text": [
            "1\n",
            "NVIDIA GeForce GTX 1060\n"
          ]
        }
      ],
      "source": [
        "print(torch.cuda.device_count())\n",
        "print(torch.cuda.get_device_name(0))"
      ]
    },
    {
      "cell_type": "code",
      "execution_count": 15,
      "metadata": {
        "colab": {
          "base_uri": "https://localhost:8080/"
        },
        "id": "wQmqTarxLSaC",
        "outputId": "080f099d-703a-4daf-aa4e-d987a6071a5e"
      },
      "outputs": [
        {
          "name": "stderr",
          "output_type": "stream",
          "text": [
            "c:\\Users\\jjjni\\AppData\\Local\\Programs\\Python\\Python311\\Lib\\site-packages\\torch\\utils\\data\\dataloader.py:560: UserWarning: This DataLoader will create 24 worker processes in total. Our suggested max number of worker in current system is 12 (`cpuset` is not taken into account), which is smaller than what this DataLoader is going to create. Please be aware that excessive worker creation might get DataLoader running slow or even freeze, lower the worker number to avoid potential slowness/freeze if necessary.\n",
            "  warnings.warn(_create_warning_msg(\n"
          ]
        },
        {
          "name": "stdout",
          "output_type": "stream",
          "text": [
            "Adjusting learning rate of group 0 to 4.0000e-03.\n"
          ]
        },
        {
          "name": "stderr",
          "output_type": "stream",
          "text": [
            "  0%|          | 0/2 [00:00<?, ?it/s]"
          ]
        }
      ],
      "source": [
        "SSLdl = torch.utils.data.DataLoader(SSLds, batch_size=1024, shuffle=True, num_workers=num_workers)\n",
        "SSLmodel = SSLModel()\n",
        "optimizer = torch.optim.Adam(SSLmodel.parameters(), lr=1e-4)\n",
        "epochs = 500\n",
        "scheduler = torch.optim.lr_scheduler.OneCycleLR(optimizer, pct_start=0.01, max_lr=0.1, total_steps=epochs, verbose=True)\n",
        "hist = SSLtrain(SSLmodel, SSLdl, optimizer, scheduler, epochs=epochs)"
      ]
    },
    {
      "cell_type": "code",
      "execution_count": null,
      "metadata": {
        "id": "Wq0Z85xoKSj1"
      },
      "outputs": [],
      "source": [
        "fig = plt.figure(figsize=(10, 3), dpi=100)\n",
        "ax = plt.subplot(1, 2, 1)\n",
        "ax.plot(hist['loss'])\n",
        "ax.legend(['loss'])\n",
        "ax.grid(True)\n",
        "ax = plt.subplot(1, 2, 2)\n",
        "ax.plot(hist['acc'])\n",
        "ax.plot(hist['test_acc'])\n",
        "ax.legend(['acc', 'test_acc'])\n",
        "ax.grid(True)\n",
        "plt.show()"
      ]
    }
  ],
  "metadata": {
    "accelerator": "GPU",
    "colab": {
      "gpuType": "T4",
      "provenance": []
    },
    "kernelspec": {
      "display_name": "Python 3",
      "name": "python3"
    },
    "language_info": {
      "codemirror_mode": {
        "name": "ipython",
        "version": 3
      },
      "file_extension": ".py",
      "mimetype": "text/x-python",
      "name": "python",
      "nbconvert_exporter": "python",
      "pygments_lexer": "ipython3",
      "version": "3.11.4"
    }
  },
  "nbformat": 4,
  "nbformat_minor": 0
}
