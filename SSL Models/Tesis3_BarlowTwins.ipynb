{
  "nbformat": 4,
  "nbformat_minor": 0,
  "metadata": {
    "colab": {
      "provenance": [],
      "gpuType": "T4"
    },
    "kernelspec": {
      "name": "python3",
      "display_name": "Python 3"
    },
    "language_info": {
      "name": "python"
    },
    "accelerator": "GPU"
  },
  "cells": [
    {
      "cell_type": "code",
      "source": [
        "#Link with Google Drive\n",
        "URL = '/content/drive/'\n",
        "from google.colab import drive\n",
        "drive.mount(URL)"
      ],
      "metadata": {
        "colab": {
          "base_uri": "https://localhost:8080/"
        },
        "id": "nuyi73CKENQI",
        "outputId": "4d683830-0601-4a97-eae8-3d15125a243e"
      },
      "execution_count": null,
      "outputs": [
        {
          "output_type": "stream",
          "name": "stdout",
          "text": [
            "Drive already mounted at /content/drive/; to attempt to forcibly remount, call drive.mount(\"/content/drive/\", force_remount=True).\n"
          ]
        }
      ]
    },
    {
      "cell_type": "code",
      "execution_count": null,
      "metadata": {
        "id": "se-ZCAe7DJOM"
      },
      "outputs": [],
      "source": [
        "import torch\n",
        "import torchvision\n",
        "import numpy as np\n",
        "\n",
        "class Dataset(torch.utils.data.Dataset):\n",
        "    def __init__(self, train=True, pctg=1.):\n",
        "        trainset = torchvision.datasets.CIFAR10(root='./data', train=train, download=True)\n",
        "        self.classes = ('plane', 'car', 'bird', 'cat', 'deer', 'dog', 'frog', 'horse', 'ship', 'truck')\n",
        "        self.imgs, self.labels = np.array([np.array(i[0]) for i in trainset]), np.array([i[1] for i in trainset])\n",
        "        if pctg < 1.:\n",
        "            unique_labels = list(range(len(self.classes)))\n",
        "            filtered_imgs, filtered_labels = [], []\n",
        "            for lab in unique_labels:\n",
        "                ixs = (self.labels == lab)\n",
        "                lim = int(ixs.sum()*pctg)\n",
        "                filtered_imgs += self.imgs[ixs][:lim].tolist()\n",
        "                filtered_labels += self.labels[ixs][:lim].tolist()\n",
        "            self.imgs, self.labels = np.array(filtered_imgs), np.array(filtered_labels)\n",
        "    def __len__(self):\n",
        "        return len(self.imgs)\n",
        "    def __getitem__(self, ix):\n",
        "        img = self.imgs[ix]\n",
        "        return torch.from_numpy(img / 255.).permute(2,0,1).float(), torch.tensor(self.labels[ix]).long()\n",
        "\n",
        "class SSLDataset(torch.utils.data.Dataset):\n",
        "    def __init__(self, trans):\n",
        "        self.trans = trans\n",
        "        trainset = torchvision.datasets.CIFAR10(root='\"/content/drive/MyDrive/SimCLR_components/data\"', train=True, download=True)\n",
        "        self.imgs = np.array([np.array(i[0]) for i in trainset])\n",
        "    def __len__(self):\n",
        "        return len(self.imgs)\n",
        "    def __getitem__(self, ix):\n",
        "        img = self.imgs[ix]\n",
        "        img1 = self.trans(image=img)['image']\n",
        "        img2 = self.trans(image=img)['image']\n",
        "        return torch.from_numpy(img1 / 255.).permute(2,0,1).float(), torch.from_numpy(img2 / 255.).permute(2,0,1).float()"
      ]
    },
    {
      "cell_type": "code",
      "source": [
        "batch_size = 1024\n",
        "num_workers = 24"
      ],
      "metadata": {
        "id": "6H9cT0fEHA_I"
      },
      "execution_count": null,
      "outputs": []
    },
    {
      "cell_type": "code",
      "source": [
        "import torch.nn.functional as F\n",
        "from tqdm import tqdm\n",
        "import pandas as pd\n",
        "\n",
        "def step(model, batch, device):\n",
        "    x, y = batch\n",
        "    x, y = x.to(device), y.to(device)\n",
        "    y_hat = model(x)\n",
        "    loss = F.cross_entropy(y_hat, y)\n",
        "    acc = (torch.argmax(y_hat, axis=1) == y).sum().item() / y.size(0)\n",
        "    return loss, acc\n",
        "\n",
        "def train(model, dl, optimizer, epochs=10, device=\"cuda\"):\n",
        "    model.to(device)\n",
        "    hist = {'loss': [], 'acc': [], 'test_loss': [], 'test_acc': []}\n",
        "    for e in range(1, epochs+1):\n",
        "        # train\n",
        "        model.train()\n",
        "        l, a = [], []\n",
        "        bar = tqdm(dl['train'])\n",
        "        for batch in bar:\n",
        "            optimizer.zero_grad()\n",
        "            loss, acc = step(model, batch, device)\n",
        "            loss.backward()\n",
        "            optimizer.step()\n",
        "            l.append(loss.item())\n",
        "            a.append(acc)\n",
        "            bar.set_description(f\"training... loss {np.mean(l):.4f} acc {np.mean(a):.4f}\")\n",
        "        hist['loss'].append(np.mean(l))\n",
        "        hist['acc'].append(np.mean(a))\n",
        "        # eval\n",
        "        model.eval()\n",
        "        l, a = [], []\n",
        "        bar = tqdm(dl['test'])\n",
        "        with torch.no_grad():\n",
        "            for batch in bar:\n",
        "                loss, acc = step(model, batch, device)\n",
        "                l.append(loss.item())\n",
        "                a.append(acc)\n",
        "                bar.set_description(f\"testing... loss {np.mean(l):.4f} acc {np.mean(a):.4f}\")\n",
        "        hist['test_loss'].append(np.mean(l))\n",
        "        hist['test_acc'].append(np.mean(a))\n",
        "        # log\n",
        "        log = f'Epoch {e}/{epochs}'\n",
        "        for k, v in hist.items():\n",
        "            log += f' {k} {v[-1]:.4f}'\n",
        "        print(log)\n",
        "    return hist\n",
        "\n",
        "def plot_hist(hist):\n",
        "  fig = plt.figure(figsize=(10, 3), dpi=100)\n",
        "  df = pd.DataFrame(hist)\n",
        "  ax = plt.subplot(1, 2, 1)\n",
        "  df[['loss', 'test_loss']].plot(ax=ax)\n",
        "  ax.grid(True)\n",
        "  ax = plt.subplot(1, 2, 2)\n",
        "  df[['acc', 'test_acc']].plot(ax=ax)\n",
        "  ax.grid(True)\n",
        "  plt.show()"
      ],
      "metadata": {
        "id": "8xOsdheSMnMP"
      },
      "execution_count": null,
      "outputs": []
    },
    {
      "cell_type": "code",
      "source": [
        "import albumentations as A\n",
        "\n",
        "trans = A.Compose([\n",
        "    A.RandomResizedCrop(32, 32),\n",
        "    A.HorizontalFlip(p=0.5),\n",
        "    A.ColorJitter(p=0.3),\n",
        "    A.ToGray(p=0.3),\n",
        "    #A.GaussianBlur(),\n",
        "    A.Solarize(p=0.3)\n",
        "])\n",
        "\n",
        "SSLds = SSLDataset(trans)"
      ],
      "metadata": {
        "colab": {
          "base_uri": "https://localhost:8080/"
        },
        "id": "UpuzTfTNElyj",
        "outputId": "eb079c93-814e-4e26-f563-6ea354c8fc23"
      },
      "execution_count": null,
      "outputs": [
        {
          "output_type": "stream",
          "name": "stdout",
          "text": [
            "Files already downloaded and verified\n"
          ]
        }
      ]
    },
    {
      "cell_type": "code",
      "source": [
        "import matplotlib.pyplot as plt\n",
        "import random\n",
        "\n",
        "ix = random.randint(0, len(SSLds))\n",
        "img1, img2 = SSLds[ix]\n",
        "fig = plt.figure(dpi=50)\n",
        "ax = plt.subplot(1, 2, 1)\n",
        "ax.imshow(img1.permute(1,2,0))\n",
        "ax.axis('off')\n",
        "ax = plt.subplot(1, 2, 2)\n",
        "ax.imshow(img2.permute(1,2,0))\n",
        "ax.axis('off')\n",
        "plt.tight_layout()\n",
        "plt.show()"
      ],
      "metadata": {
        "colab": {
          "base_uri": "https://localhost:8080/",
          "height": 175
        },
        "id": "rw-G2NpFGw5P",
        "outputId": "40b8a840-6992-4efd-fa76-0dec6f7613ca"
      },
      "execution_count": null,
      "outputs": [
        {
          "output_type": "display_data",
          "data": {
            "text/plain": [
              "<Figure size 320x240 with 2 Axes>"
            ],
            "image/png": "[encoded data removed]"
          },
          "metadata": {}
        }
      ]
    },
    {
      "cell_type": "code",
      "source": [
        "class SSLModel(torch.nn.Module):\n",
        "\n",
        "    def __init__(self, f=512):\n",
        "        super().__init__()\n",
        "        self.backbone = torch.nn.Sequential(*list(torchvision.models.resnet18().children())[:-1])\n",
        "        self.head = torch.nn.Sequential(\n",
        "            torch.nn.Flatten(),\n",
        "            torch.nn.Linear(512, f),\n",
        "            torch.nn.BatchNorm1d(f),\n",
        "            torch.nn.ReLU(),\n",
        "            torch.nn.Linear(f, f),\n",
        "            torch.nn.BatchNorm1d(f),\n",
        "            torch.nn.ReLU(),\n",
        "            torch.nn.Linear(f, f)\n",
        "        )\n",
        "\n",
        "    def forward(self, x):\n",
        "        x = self.backbone(x)\n",
        "        x = self.head(x)\n",
        "        return x"
      ],
      "metadata": {
        "id": "vUiglMITG2Ry"
      },
      "execution_count": null,
      "outputs": []
    },
    {
      "cell_type": "code",
      "source": [
        "SSLmodel = SSLModel()\n",
        "output = SSLmodel(torch.randn(32, 3, 32, 32))\n",
        "\n",
        "output.shape"
      ],
      "metadata": {
        "colab": {
          "base_uri": "https://localhost:8080/"
        },
        "id": "La9AUGglJSCY",
        "outputId": "89e809a8-f282-4e22-fdf2-218bca154d93"
      },
      "execution_count": null,
      "outputs": [
        {
          "output_type": "execute_result",
          "data": {
            "text/plain": [
              "torch.Size([32, 512])"
            ]
          },
          "metadata": {},
          "execution_count": 40
        }
      ]
    },
    {
      "cell_type": "code",
      "source": [
        "import copy\n",
        "\n",
        "class FTModel(torch.nn.Module):\n",
        "\n",
        "    def __init__(self, backbone='SSLbackbone.pt', n_outputs=10):\n",
        "        super().__init__()\n",
        "        self.backbone = torch.jit.load(backbone)\n",
        "        for param in self.backbone.parameters():\n",
        "            param.requires_grad = False\n",
        "        self.head = torch.nn.Sequential(\n",
        "            torch.nn.Flatten(),\n",
        "            torch.nn.Linear(512, n_outputs)\n",
        "        )\n",
        "\n",
        "    def forward(self, x):\n",
        "        x = self.backbone(x)\n",
        "        x = self.head(x)\n",
        "        return x"
      ],
      "metadata": {
        "id": "GoOGRmbDJXOE"
      },
      "execution_count": null,
      "outputs": []
    },
    {
      "cell_type": "code",
      "source": [
        "from tqdm import tqdm\n",
        "\n",
        "def SSLeval(SSLmodel):\n",
        "    torch.jit.script(SSLmodel.backbone.cpu()).save('SSLbackbone.pt')\n",
        "    ds = {\n",
        "        'train': Dataset(),\n",
        "        'test': Dataset(train=False)\n",
        "    }\n",
        "    batch_size = 1024\n",
        "    dl = {\n",
        "        'train': torch.utils.data.DataLoader(ds['train'], batch_size=batch_size, shuffle=True, num_workers=num_workers),\n",
        "        'test': torch.utils.data.DataLoader(ds['test'], batch_size=batch_size, shuffle=False, num_workers=num_workers)\n",
        "    }\n",
        "    FTmodel = FTModel('SSLbackbone.pt')\n",
        "    optimizer = torch.optim.Adam(FTmodel.parameters(), lr=1e-3)\n",
        "    hist = train(FTmodel, dl, optimizer, epochs=3)\n",
        "    return hist['acc'][-1], hist['test_acc'][-1]\n",
        "\n",
        "def SSLstep(model, batch, device, l=5e-3):\n",
        "    # Dos versiones aumentadas aleatoriamente de x\n",
        "    x1, x2 = batch\n",
        "    x1, x2 = x1.to(device), x2.to(device)\n",
        "\n",
        "    # Calcular representaciones\n",
        "    z1 = model(x1)\n",
        "    z2 = model(x2)\n",
        "\n",
        "    # normalizar repr. a lo largo de la dimensión del batch\n",
        "    N, D = z1.shape\n",
        "    z1_norm = (z1 - z1.mean(0)) / z1.std(0) # NxD\n",
        "    z2_norm = (z2 - z2.mean(0)) / z2.std(0) # NxD\n",
        "\n",
        "    # Matriz de cross-correlation\n",
        "    c = (z1_norm.T @ z2_norm) / N # DxD\n",
        "\n",
        "    # loss\n",
        "    c_diff = (c - torch.eye(D, device=device)).pow(2) # DxD\n",
        "\n",
        "    # multiplicar elementos fuera de la diagonal de c_diff por lambda\n",
        "    d = torch.eye(D, dtype=bool)\n",
        "    c_diff[~d] *= l\n",
        "    return c_diff.sum()\n",
        "\n",
        "def SSLtrain(model, dl, optimizer, scheduler, epochs=10, device=\"cuda\", eval_each=10):\n",
        "    hist = {'loss': [], 'acc': [], 'test_acc': []}\n",
        "    for e in range(1, epochs+1):\n",
        "        model.to(device)\n",
        "        # train\n",
        "        model.train()\n",
        "        l, a = [], []\n",
        "        bar = tqdm(dl)\n",
        "        for batch in bar:\n",
        "            optimizer.zero_grad()\n",
        "            loss = SSLstep(model, batch, device)\n",
        "            loss.backward()\n",
        "            optimizer.step()\n",
        "            l.append(loss.item())\n",
        "            bar.set_description(f\"training... loss {np.mean(l):.4f}\")\n",
        "        hist['loss'].append(np.mean(l))\n",
        "        scheduler.step()\n",
        "        # log\n",
        "        log = f'Epoch {e}/{epochs}'\n",
        "        for k, v in hist.items():\n",
        "            if len(v) > 0:\n",
        "                log += f' {k} {v[-1]:.4f}'\n",
        "        print(log)\n",
        "        # eval\n",
        "        if not e % eval_each:\n",
        "            print(\"evaluating ...\")\n",
        "            val_train_acc, val_test_acc = SSLeval(model)\n",
        "            hist['acc'].append(val_train_acc)\n",
        "            hist['test_acc'].append(val_test_acc)\n",
        "    return hist"
      ],
      "metadata": {
        "id": "bXTFMcbALPBd"
      },
      "execution_count": null,
      "outputs": []
    },
    {
      "cell_type": "code",
      "source": [
        "SSLdl = torch.utils.data.DataLoader(SSLds, batch_size=1024, shuffle=True, num_workers=num_workers)\n",
        "SSLmodel = SSLModel()\n",
        "optimizer = torch.optim.Adam(SSLmodel.parameters(), lr=1e-4)\n",
        "epochs = 500\n",
        "scheduler = torch.optim.lr_scheduler.OneCycleLR(optimizer, pct_start=0.01, max_lr=0.1, total_steps=epochs, verbose=True)\n",
        "hist = SSLtrain(SSLmodel, SSLdl, optimizer, scheduler, epochs=epochs)"
      ],
      "metadata": {
        "colab": {
          "base_uri": "https://localhost:8080/"
        },
        "id": "wQmqTarxLSaC",
        "outputId": "080f099d-703a-4daf-aa4e-d987a6071a5e"
      },
      "execution_count": null,
      "outputs": [
        {
          "output_type": "stream",
          "name": "stdout",
          "text": [
            "Adjusting learning rate of group 0 to 4.0000e-03.\n"
          ]
        },
        {
          "output_type": "stream",
          "name": "stderr",
          "text": [
            "training... loss 266.7206: 100%|██████████| 49/49 [00:41<00:00,  1.17it/s]\n"
          ]
        },
        {
          "output_type": "stream",
          "name": "stdout",
          "text": [
            "Adjusting learning rate of group 0 to 1.8059e-02.\n",
            "Epoch 1/500 loss 266.7206\n"
          ]
        },
        {
          "output_type": "stream",
          "name": "stderr",
          "text": [
            "training... loss 208.6038: 100%|██████████| 49/49 [00:46<00:00,  1.05it/s]\n"
          ]
        },
        {
          "output_type": "stream",
          "name": "stdout",
          "text": [
            "Adjusting learning rate of group 0 to 5.2000e-02.\n",
            "Epoch 2/500 loss 208.6038\n"
          ]
        },
        {
          "output_type": "stream",
          "name": "stderr",
          "text": [
            "training... loss 187.8893: 100%|██████████| 49/49 [00:43<00:00,  1.14it/s]\n"
          ]
        },
        {
          "output_type": "stream",
          "name": "stdout",
          "text": [
            "Adjusting learning rate of group 0 to 8.5941e-02.\n",
            "Epoch 3/500 loss 187.8893\n"
          ]
        },
        {
          "output_type": "stream",
          "name": "stderr",
          "text": [
            "training... loss 167.6310: 100%|██████████| 49/49 [00:45<00:00,  1.09it/s]\n"
          ]
        },
        {
          "output_type": "stream",
          "name": "stdout",
          "text": [
            "Adjusting learning rate of group 0 to 1.0000e-01.\n",
            "Epoch 4/500 loss 167.6310\n"
          ]
        },
        {
          "output_type": "stream",
          "name": "stderr",
          "text": [
            "training... loss 158.1103: 100%|██████████| 49/49 [00:41<00:00,  1.17it/s]\n"
          ]
        },
        {
          "output_type": "stream",
          "name": "stdout",
          "text": [
            "Adjusting learning rate of group 0 to 9.9999e-02.\n",
            "Epoch 5/500 loss 158.1103\n"
          ]
        },
        {
          "output_type": "stream",
          "name": "stderr",
          "text": [
            "training... loss 150.6902: 100%|██████████| 49/49 [00:44<00:00,  1.11it/s]\n"
          ]
        },
        {
          "output_type": "stream",
          "name": "stdout",
          "text": [
            "Adjusting learning rate of group 0 to 9.9996e-02.\n",
            "Epoch 6/500 loss 150.6902\n"
          ]
        },
        {
          "output_type": "stream",
          "name": "stderr",
          "text": [
            "training... loss 146.7346: 100%|██████████| 49/49 [00:45<00:00,  1.08it/s]\n"
          ]
        },
        {
          "output_type": "stream",
          "name": "stdout",
          "text": [
            "Adjusting learning rate of group 0 to 9.9991e-02.\n",
            "Epoch 7/500 loss 146.7346\n"
          ]
        },
        {
          "output_type": "stream",
          "name": "stderr",
          "text": [
            "training... loss 140.0461: 100%|██████████| 49/49 [00:44<00:00,  1.11it/s]\n"
          ]
        },
        {
          "output_type": "stream",
          "name": "stdout",
          "text": [
            "Adjusting learning rate of group 0 to 9.9984e-02.\n",
            "Epoch 8/500 loss 140.0461\n"
          ]
        },
        {
          "output_type": "stream",
          "name": "stderr",
          "text": [
            "training... loss 132.8457: 100%|██████████| 49/49 [00:41<00:00,  1.19it/s]\n"
          ]
        },
        {
          "output_type": "stream",
          "name": "stdout",
          "text": [
            "Adjusting learning rate of group 0 to 9.9975e-02.\n",
            "Epoch 9/500 loss 132.8457\n"
          ]
        },
        {
          "output_type": "stream",
          "name": "stderr",
          "text": [
            "training... loss 127.6053: 100%|██████████| 49/49 [00:44<00:00,  1.11it/s]\n"
          ]
        },
        {
          "output_type": "stream",
          "name": "stdout",
          "text": [
            "Adjusting learning rate of group 0 to 9.9964e-02.\n",
            "Epoch 10/500 loss 127.6053\n",
            "evaluating ...\n",
            "Files already downloaded and verified\n",
            "Files already downloaded and verified\n"
          ]
        },
        {
          "output_type": "stream",
          "name": "stderr",
          "text": [
            "training... loss 1.8995 acc 0.2919: 100%|██████████| 49/49 [00:07<00:00,  6.30it/s]\n",
            "testing... loss 1.7750 acc 0.3234: 100%|██████████| 10/10 [00:02<00:00,  4.55it/s]\n"
          ]
        },
        {
          "output_type": "stream",
          "name": "stdout",
          "text": [
            "Epoch 1/3 loss 1.8995 acc 0.2919 test_loss 1.7750 test_acc 0.3234\n"
          ]
        },
        {
          "output_type": "stream",
          "name": "stderr",
          "text": [
            "training... loss 1.7690 acc 0.3254: 100%|██████████| 49/49 [00:06<00:00,  7.48it/s]\n",
            "testing... loss 1.7611 acc 0.3420: 100%|██████████| 10/10 [00:02<00:00,  3.91it/s]\n"
          ]
        },
        {
          "output_type": "stream",
          "name": "stdout",
          "text": [
            "Epoch 2/3 loss 1.7690 acc 0.3254 test_loss 1.7611 test_acc 0.3420\n"
          ]
        },
        {
          "output_type": "stream",
          "name": "stderr",
          "text": [
            "training... loss 1.7603 acc 0.3337: 100%|██████████| 49/49 [00:05<00:00,  8.38it/s]\n",
            "testing... loss 1.7514 acc 0.3454: 100%|██████████| 10/10 [00:02<00:00,  4.70it/s]\n"
          ]
        },
        {
          "output_type": "stream",
          "name": "stdout",
          "text": [
            "Epoch 3/3 loss 1.7603 acc 0.3337 test_loss 1.7514 test_acc 0.3454\n"
          ]
        },
        {
          "output_type": "stream",
          "name": "stderr",
          "text": [
            "training... loss 125.1333: 100%|██████████| 49/49 [00:43<00:00,  1.12it/s]\n"
          ]
        },
        {
          "output_type": "stream",
          "name": "stdout",
          "text": [
            "Adjusting learning rate of group 0 to 9.9951e-02.\n",
            "Epoch 11/500 loss 125.1333 acc 0.3337 test_acc 0.3454\n"
          ]
        },
        {
          "output_type": "stream",
          "name": "stderr",
          "text": [
            "training... loss 125.2524: 100%|██████████| 49/49 [00:44<00:00,  1.11it/s]\n"
          ]
        },
        {
          "output_type": "stream",
          "name": "stdout",
          "text": [
            "Adjusting learning rate of group 0 to 9.9936e-02.\n",
            "Epoch 12/500 loss 125.2524 acc 0.3337 test_acc 0.3454\n"
          ]
        },
        {
          "output_type": "stream",
          "name": "stderr",
          "text": [
            "training... loss 120.6025: 100%|██████████| 49/49 [00:44<00:00,  1.11it/s]\n"
          ]
        },
        {
          "output_type": "stream",
          "name": "stdout",
          "text": [
            "Adjusting learning rate of group 0 to 9.9918e-02.\n",
            "Epoch 13/500 loss 120.6025 acc 0.3337 test_acc 0.3454\n"
          ]
        },
        {
          "output_type": "stream",
          "name": "stderr",
          "text": [
            "training... loss 118.5832: 100%|██████████| 49/49 [00:44<00:00,  1.10it/s]\n"
          ]
        },
        {
          "output_type": "stream",
          "name": "stdout",
          "text": [
            "Adjusting learning rate of group 0 to 9.9899e-02.\n",
            "Epoch 14/500 loss 118.5832 acc 0.3337 test_acc 0.3454\n"
          ]
        },
        {
          "output_type": "stream",
          "name": "stderr",
          "text": [
            "training... loss 115.9805: 100%|██████████| 49/49 [00:42<00:00,  1.17it/s]\n"
          ]
        },
        {
          "output_type": "stream",
          "name": "stdout",
          "text": [
            "Adjusting learning rate of group 0 to 9.9878e-02.\n",
            "Epoch 15/500 loss 115.9805 acc 0.3337 test_acc 0.3454\n"
          ]
        },
        {
          "output_type": "stream",
          "name": "stderr",
          "text": [
            "training... loss 114.6910: 100%|██████████| 49/49 [00:44<00:00,  1.09it/s]\n"
          ]
        },
        {
          "output_type": "stream",
          "name": "stdout",
          "text": [
            "Adjusting learning rate of group 0 to 9.9855e-02.\n",
            "Epoch 16/500 loss 114.6910 acc 0.3337 test_acc 0.3454\n"
          ]
        },
        {
          "output_type": "stream",
          "name": "stderr",
          "text": [
            "training... loss 112.7384: 100%|██████████| 49/49 [00:46<00:00,  1.05it/s]\n"
          ]
        },
        {
          "output_type": "stream",
          "name": "stdout",
          "text": [
            "Adjusting learning rate of group 0 to 9.9830e-02.\n",
            "Epoch 17/500 loss 112.7384 acc 0.3337 test_acc 0.3454\n"
          ]
        },
        {
          "output_type": "stream",
          "name": "stderr",
          "text": [
            "training... loss 111.1957: 100%|██████████| 49/49 [00:41<00:00,  1.17it/s]\n"
          ]
        },
        {
          "output_type": "stream",
          "name": "stdout",
          "text": [
            "Adjusting learning rate of group 0 to 9.9803e-02.\n",
            "Epoch 18/500 loss 111.1957 acc 0.3337 test_acc 0.3454\n"
          ]
        },
        {
          "output_type": "stream",
          "name": "stderr",
          "text": [
            "training... loss 111.9300: 100%|██████████| 49/49 [00:44<00:00,  1.11it/s]\n"
          ]
        },
        {
          "output_type": "stream",
          "name": "stdout",
          "text": [
            "Adjusting learning rate of group 0 to 9.9774e-02.\n",
            "Epoch 19/500 loss 111.9300 acc 0.3337 test_acc 0.3454\n"
          ]
        },
        {
          "output_type": "stream",
          "name": "stderr",
          "text": [
            "training... loss 107.6336: 100%|██████████| 49/49 [00:45<00:00,  1.07it/s]\n"
          ]
        },
        {
          "output_type": "stream",
          "name": "stdout",
          "text": [
            "Adjusting learning rate of group 0 to 9.9742e-02.\n",
            "Epoch 20/500 loss 107.6336 acc 0.3337 test_acc 0.3454\n",
            "evaluating ...\n",
            "Files already downloaded and verified\n",
            "Files already downloaded and verified\n"
          ]
        },
        {
          "output_type": "stream",
          "name": "stderr",
          "text": [
            "training... loss 2.0209 acc 0.2860: 100%|██████████| 49/49 [00:07<00:00,  6.35it/s]\n",
            "testing... loss 1.7542 acc 0.3427: 100%|██████████| 10/10 [00:02<00:00,  3.66it/s]\n"
          ]
        },
        {
          "output_type": "stream",
          "name": "stdout",
          "text": [
            "Epoch 1/3 loss 2.0209 acc 0.2860 test_loss 1.7542 test_acc 0.3427\n"
          ]
        },
        {
          "output_type": "stream",
          "name": "stderr",
          "text": [
            "training... loss 1.7298 acc 0.3562: 100%|██████████| 49/49 [00:06<00:00,  7.86it/s]\n",
            "testing... loss 1.7181 acc 0.3719: 100%|██████████| 10/10 [00:02<00:00,  4.22it/s]\n"
          ]
        },
        {
          "output_type": "stream",
          "name": "stdout",
          "text": [
            "Epoch 2/3 loss 1.7298 acc 0.3562 test_loss 1.7181 test_acc 0.3719\n"
          ]
        },
        {
          "output_type": "stream",
          "name": "stderr",
          "text": [
            "training... loss 1.7012 acc 0.3686: 100%|██████████| 49/49 [00:07<00:00,  6.69it/s]\n",
            "testing... loss 1.6944 acc 0.3780: 100%|██████████| 10/10 [00:02<00:00,  4.40it/s]\n"
          ]
        },
        {
          "output_type": "stream",
          "name": "stdout",
          "text": [
            "Epoch 3/3 loss 1.7012 acc 0.3686 test_loss 1.6944 test_acc 0.3780\n"
          ]
        },
        {
          "output_type": "stream",
          "name": "stderr",
          "text": [
            "training... loss 107.7060: 100%|██████████| 49/49 [00:44<00:00,  1.11it/s]\n"
          ]
        },
        {
          "output_type": "stream",
          "name": "stdout",
          "text": [
            "Adjusting learning rate of group 0 to 9.9709e-02.\n",
            "Epoch 21/500 loss 107.7060 acc 0.3686 test_acc 0.3780\n"
          ]
        },
        {
          "output_type": "stream",
          "name": "stderr",
          "text": [
            "training... loss 107.0838: 100%|██████████| 49/49 [00:41<00:00,  1.19it/s]\n"
          ]
        },
        {
          "output_type": "stream",
          "name": "stdout",
          "text": [
            "Adjusting learning rate of group 0 to 9.9674e-02.\n",
            "Epoch 22/500 loss 107.0838 acc 0.3686 test_acc 0.3780\n"
          ]
        },
        {
          "output_type": "stream",
          "name": "stderr",
          "text": [
            "training... loss 106.8946: 100%|██████████| 49/49 [00:44<00:00,  1.09it/s]\n"
          ]
        },
        {
          "output_type": "stream",
          "name": "stdout",
          "text": [
            "Adjusting learning rate of group 0 to 9.9637e-02.\n",
            "Epoch 23/500 loss 106.8946 acc 0.3686 test_acc 0.3780\n"
          ]
        },
        {
          "output_type": "stream",
          "name": "stderr",
          "text": [
            "training... loss 104.1895: 100%|██████████| 49/49 [00:41<00:00,  1.18it/s]\n"
          ]
        },
        {
          "output_type": "stream",
          "name": "stdout",
          "text": [
            "Adjusting learning rate of group 0 to 9.9598e-02.\n",
            "Epoch 24/500 loss 104.1895 acc 0.3686 test_acc 0.3780\n"
          ]
        },
        {
          "output_type": "stream",
          "name": "stderr",
          "text": [
            "training... loss 103.5212: 100%|██████████| 49/49 [00:43<00:00,  1.12it/s]\n"
          ]
        },
        {
          "output_type": "stream",
          "name": "stdout",
          "text": [
            "Adjusting learning rate of group 0 to 9.9557e-02.\n",
            "Epoch 25/500 loss 103.5212 acc 0.3686 test_acc 0.3780\n"
          ]
        },
        {
          "output_type": "stream",
          "name": "stderr",
          "text": [
            "training... loss 102.7354: 100%|██████████| 49/49 [00:46<00:00,  1.06it/s]\n"
          ]
        },
        {
          "output_type": "stream",
          "name": "stdout",
          "text": [
            "Adjusting learning rate of group 0 to 9.9513e-02.\n",
            "Epoch 26/500 loss 102.7354 acc 0.3686 test_acc 0.3780\n"
          ]
        },
        {
          "output_type": "stream",
          "name": "stderr",
          "text": [
            "training... loss 100.6438: 100%|██████████| 49/49 [00:41<00:00,  1.17it/s]\n"
          ]
        },
        {
          "output_type": "stream",
          "name": "stdout",
          "text": [
            "Adjusting learning rate of group 0 to 9.9468e-02.\n",
            "Epoch 27/500 loss 100.6438 acc 0.3686 test_acc 0.3780\n"
          ]
        },
        {
          "output_type": "stream",
          "name": "stderr",
          "text": [
            "training... loss 100.2217: 100%|██████████| 49/49 [00:43<00:00,  1.12it/s]\n"
          ]
        },
        {
          "output_type": "stream",
          "name": "stdout",
          "text": [
            "Adjusting learning rate of group 0 to 9.9421e-02.\n",
            "Epoch 28/500 loss 100.2217 acc 0.3686 test_acc 0.3780\n"
          ]
        },
        {
          "output_type": "stream",
          "name": "stderr",
          "text": [
            "training... loss 100.2054: 100%|██████████| 49/49 [00:41<00:00,  1.19it/s]\n"
          ]
        },
        {
          "output_type": "stream",
          "name": "stdout",
          "text": [
            "Adjusting learning rate of group 0 to 9.9372e-02.\n",
            "Epoch 29/500 loss 100.2054 acc 0.3686 test_acc 0.3780\n"
          ]
        },
        {
          "output_type": "stream",
          "name": "stderr",
          "text": [
            "training... loss 100.4352: 100%|██████████| 49/49 [00:43<00:00,  1.12it/s]\n"
          ]
        },
        {
          "output_type": "stream",
          "name": "stdout",
          "text": [
            "Adjusting learning rate of group 0 to 9.9321e-02.\n",
            "Epoch 30/500 loss 100.4352 acc 0.3686 test_acc 0.3780\n",
            "evaluating ...\n",
            "Files already downloaded and verified\n",
            "Files already downloaded and verified\n"
          ]
        },
        {
          "output_type": "stream",
          "name": "stderr",
          "text": [
            "training... loss 2.3604 acc 0.2645: 100%|██████████| 49/49 [00:09<00:00,  4.97it/s]\n",
            "testing... loss 1.7496 acc 0.3492: 100%|██████████| 10/10 [00:02<00:00,  4.38it/s]\n"
          ]
        },
        {
          "output_type": "stream",
          "name": "stdout",
          "text": [
            "Epoch 1/3 loss 2.3604 acc 0.2645 test_loss 1.7496 test_acc 0.3492\n"
          ]
        },
        {
          "output_type": "stream",
          "name": "stderr",
          "text": [
            "training... loss 1.6802 acc 0.3716: 100%|██████████| 49/49 [00:05<00:00,  8.18it/s]\n",
            "testing... loss 1.6690 acc 0.3850: 100%|██████████| 10/10 [00:03<00:00,  3.05it/s]\n"
          ]
        },
        {
          "output_type": "stream",
          "name": "stdout",
          "text": [
            "Epoch 2/3 loss 1.6802 acc 0.3716 test_loss 1.6690 test_acc 0.3850\n"
          ]
        },
        {
          "output_type": "stream",
          "name": "stderr",
          "text": [
            "training... loss 1.6387 acc 0.3899: 100%|██████████| 49/49 [00:06<00:00,  7.57it/s]\n",
            "testing... loss 1.6464 acc 0.3938: 100%|██████████| 10/10 [00:02<00:00,  4.29it/s]\n"
          ]
        },
        {
          "output_type": "stream",
          "name": "stdout",
          "text": [
            "Epoch 3/3 loss 1.6387 acc 0.3899 test_loss 1.6464 test_acc 0.3938\n"
          ]
        },
        {
          "output_type": "stream",
          "name": "stderr",
          "text": [
            "training... loss 98.5845: 100%|██████████| 49/49 [00:44<00:00,  1.11it/s]\n"
          ]
        },
        {
          "output_type": "stream",
          "name": "stdout",
          "text": [
            "Adjusting learning rate of group 0 to 9.9268e-02.\n",
            "Epoch 31/500 loss 98.5845 acc 0.3899 test_acc 0.3938\n"
          ]
        },
        {
          "output_type": "stream",
          "name": "stderr",
          "text": [
            "training... loss 98.1546: 100%|██████████| 49/49 [00:45<00:00,  1.07it/s]\n"
          ]
        },
        {
          "output_type": "stream",
          "name": "stdout",
          "text": [
            "Adjusting learning rate of group 0 to 9.9213e-02.\n",
            "Epoch 32/500 loss 98.1546 acc 0.3899 test_acc 0.3938\n"
          ]
        },
        {
          "output_type": "stream",
          "name": "stderr",
          "text": [
            "training... loss 97.6991: 100%|██████████| 49/49 [00:44<00:00,  1.11it/s]\n"
          ]
        },
        {
          "output_type": "stream",
          "name": "stdout",
          "text": [
            "Adjusting learning rate of group 0 to 9.9156e-02.\n",
            "Epoch 33/500 loss 97.6991 acc 0.3899 test_acc 0.3938\n"
          ]
        },
        {
          "output_type": "stream",
          "name": "stderr",
          "text": [
            "training... loss 95.6900: 100%|██████████| 49/49 [00:41<00:00,  1.18it/s]\n"
          ]
        },
        {
          "output_type": "stream",
          "name": "stdout",
          "text": [
            "Adjusting learning rate of group 0 to 9.9096e-02.\n",
            "Epoch 34/500 loss 95.6900 acc 0.3899 test_acc 0.3938\n"
          ]
        },
        {
          "output_type": "stream",
          "name": "stderr",
          "text": [
            "training... loss 94.3683: 100%|██████████| 49/49 [00:43<00:00,  1.12it/s]\n"
          ]
        },
        {
          "output_type": "stream",
          "name": "stdout",
          "text": [
            "Adjusting learning rate of group 0 to 9.9035e-02.\n",
            "Epoch 35/500 loss 94.3683 acc 0.3899 test_acc 0.3938\n"
          ]
        },
        {
          "output_type": "stream",
          "name": "stderr",
          "text": [
            "training... loss 95.4136: 100%|██████████| 49/49 [00:42<00:00,  1.15it/s]\n"
          ]
        },
        {
          "output_type": "stream",
          "name": "stdout",
          "text": [
            "Adjusting learning rate of group 0 to 9.8972e-02.\n",
            "Epoch 36/500 loss 95.4136 acc 0.3899 test_acc 0.3938\n"
          ]
        },
        {
          "output_type": "stream",
          "name": "stderr",
          "text": [
            "training... loss 93.9331: 100%|██████████| 49/49 [00:46<00:00,  1.05it/s]\n"
          ]
        },
        {
          "output_type": "stream",
          "name": "stdout",
          "text": [
            "Adjusting learning rate of group 0 to 9.8907e-02.\n",
            "Epoch 37/500 loss 93.9331 acc 0.3899 test_acc 0.3938\n"
          ]
        },
        {
          "output_type": "stream",
          "name": "stderr",
          "text": [
            "training... loss 93.1944: 100%|██████████| 49/49 [00:42<00:00,  1.15it/s]\n"
          ]
        },
        {
          "output_type": "stream",
          "name": "stdout",
          "text": [
            "Adjusting learning rate of group 0 to 9.8840e-02.\n",
            "Epoch 38/500 loss 93.1944 acc 0.3899 test_acc 0.3938\n"
          ]
        },
        {
          "output_type": "stream",
          "name": "stderr",
          "text": [
            "training... loss 92.5531: 100%|██████████| 49/49 [00:45<00:00,  1.09it/s]\n"
          ]
        },
        {
          "output_type": "stream",
          "name": "stdout",
          "text": [
            "Adjusting learning rate of group 0 to 9.8771e-02.\n",
            "Epoch 39/500 loss 92.5531 acc 0.3899 test_acc 0.3938\n"
          ]
        },
        {
          "output_type": "stream",
          "name": "stderr",
          "text": [
            "training... loss 92.1077: 100%|██████████| 49/49 [00:41<00:00,  1.18it/s]\n"
          ]
        },
        {
          "output_type": "stream",
          "name": "stdout",
          "text": [
            "Adjusting learning rate of group 0 to 9.8701e-02.\n",
            "Epoch 40/500 loss 92.1077 acc 0.3899 test_acc 0.3938\n",
            "evaluating ...\n",
            "Files already downloaded and verified\n",
            "Files already downloaded and verified\n"
          ]
        },
        {
          "output_type": "stream",
          "name": "stderr",
          "text": [
            "training... loss 2.1754 acc 0.2991: 100%|██████████| 49/49 [00:06<00:00,  7.12it/s]\n",
            "testing... loss 1.6411 acc 0.3956: 100%|██████████| 10/10 [00:02<00:00,  3.75it/s]\n"
          ]
        },
        {
          "output_type": "stream",
          "name": "stdout",
          "text": [
            "Epoch 1/3 loss 2.1754 acc 0.2991 test_loss 1.6411 test_acc 0.3956\n"
          ]
        },
        {
          "output_type": "stream",
          "name": "stderr",
          "text": [
            "training... loss 1.5853 acc 0.4151: 100%|██████████| 49/49 [00:07<00:00,  6.77it/s]\n",
            "testing... loss 1.5779 acc 0.4209: 100%|██████████| 10/10 [00:02<00:00,  4.24it/s]\n"
          ]
        },
        {
          "output_type": "stream",
          "name": "stdout",
          "text": [
            "Epoch 2/3 loss 1.5853 acc 0.4151 test_loss 1.5779 test_acc 0.4209\n"
          ]
        },
        {
          "output_type": "stream",
          "name": "stderr",
          "text": [
            "training... loss 1.5420 acc 0.4319: 100%|██████████| 49/49 [00:06<00:00,  7.84it/s]\n",
            "testing... loss 1.5536 acc 0.4301: 100%|██████████| 10/10 [00:03<00:00,  2.91it/s]\n"
          ]
        },
        {
          "output_type": "stream",
          "name": "stdout",
          "text": [
            "Epoch 3/3 loss 1.5420 acc 0.4319 test_loss 1.5536 test_acc 0.4301\n"
          ]
        },
        {
          "output_type": "stream",
          "name": "stderr",
          "text": [
            "training... loss 90.7211: 100%|██████████| 49/49 [00:48<00:00,  1.01it/s]\n"
          ]
        },
        {
          "output_type": "stream",
          "name": "stdout",
          "text": [
            "Adjusting learning rate of group 0 to 9.8628e-02.\n",
            "Epoch 41/500 loss 90.7211 acc 0.4319 test_acc 0.4301\n"
          ]
        },
        {
          "output_type": "stream",
          "name": "stderr",
          "text": [
            "training... loss 90.7119: 100%|██████████| 49/49 [00:45<00:00,  1.08it/s]\n"
          ]
        },
        {
          "output_type": "stream",
          "name": "stdout",
          "text": [
            "Adjusting learning rate of group 0 to 9.8553e-02.\n",
            "Epoch 42/500 loss 90.7119 acc 0.4319 test_acc 0.4301\n"
          ]
        },
        {
          "output_type": "stream",
          "name": "stderr",
          "text": [
            "training... loss 88.3594: 100%|██████████| 49/49 [00:43<00:00,  1.13it/s]\n"
          ]
        },
        {
          "output_type": "stream",
          "name": "stdout",
          "text": [
            "Adjusting learning rate of group 0 to 9.8476e-02.\n",
            "Epoch 43/500 loss 88.3594 acc 0.4319 test_acc 0.4301\n"
          ]
        },
        {
          "output_type": "stream",
          "name": "stderr",
          "text": [
            "training... loss 88.8623: 100%|██████████| 49/49 [00:47<00:00,  1.03it/s]\n"
          ]
        },
        {
          "output_type": "stream",
          "name": "stdout",
          "text": [
            "Adjusting learning rate of group 0 to 9.8397e-02.\n",
            "Epoch 44/500 loss 88.8623 acc 0.4319 test_acc 0.4301\n"
          ]
        },
        {
          "output_type": "stream",
          "name": "stderr",
          "text": [
            "training... loss 89.2743: 100%|██████████| 49/49 [00:46<00:00,  1.05it/s]\n"
          ]
        },
        {
          "output_type": "stream",
          "name": "stdout",
          "text": [
            "Adjusting learning rate of group 0 to 9.8317e-02.\n",
            "Epoch 45/500 loss 89.2743 acc 0.4319 test_acc 0.4301\n"
          ]
        },
        {
          "output_type": "stream",
          "name": "stderr",
          "text": [
            "training... loss 88.4747: 100%|██████████| 49/49 [00:47<00:00,  1.03it/s]\n"
          ]
        },
        {
          "output_type": "stream",
          "name": "stdout",
          "text": [
            "Adjusting learning rate of group 0 to 9.8234e-02.\n",
            "Epoch 46/500 loss 88.4747 acc 0.4319 test_acc 0.4301\n"
          ]
        },
        {
          "output_type": "stream",
          "name": "stderr",
          "text": [
            "training... loss 87.4967: 100%|██████████| 49/49 [00:46<00:00,  1.05it/s]\n"
          ]
        },
        {
          "output_type": "stream",
          "name": "stdout",
          "text": [
            "Adjusting learning rate of group 0 to 9.8150e-02.\n",
            "Epoch 47/500 loss 87.4967 acc 0.4319 test_acc 0.4301\n"
          ]
        },
        {
          "output_type": "stream",
          "name": "stderr",
          "text": [
            "training... loss 87.2047: 100%|██████████| 49/49 [00:44<00:00,  1.10it/s]\n"
          ]
        },
        {
          "output_type": "stream",
          "name": "stdout",
          "text": [
            "Adjusting learning rate of group 0 to 9.8063e-02.\n",
            "Epoch 48/500 loss 87.2047 acc 0.4319 test_acc 0.4301\n"
          ]
        },
        {
          "output_type": "stream",
          "name": "stderr",
          "text": [
            "training... loss 86.2938: 100%|██████████| 49/49 [00:45<00:00,  1.08it/s]\n"
          ]
        },
        {
          "output_type": "stream",
          "name": "stdout",
          "text": [
            "Adjusting learning rate of group 0 to 9.7975e-02.\n",
            "Epoch 49/500 loss 86.2938 acc 0.4319 test_acc 0.4301\n"
          ]
        },
        {
          "output_type": "stream",
          "name": "stderr",
          "text": [
            "training... loss 86.3128: 100%|██████████| 49/49 [00:46<00:00,  1.06it/s]\n"
          ]
        },
        {
          "output_type": "stream",
          "name": "stdout",
          "text": [
            "Adjusting learning rate of group 0 to 9.7884e-02.\n",
            "Epoch 50/500 loss 86.3128 acc 0.4319 test_acc 0.4301\n",
            "evaluating ...\n",
            "Files already downloaded and verified\n",
            "Files already downloaded and verified\n"
          ]
        },
        {
          "output_type": "stream",
          "name": "stderr",
          "text": [
            "training... loss 2.3327 acc 0.2910: 100%|██████████| 49/49 [00:10<00:00,  4.49it/s]\n",
            "testing... loss 1.6212 acc 0.4062: 100%|██████████| 10/10 [00:03<00:00,  3.21it/s]\n"
          ]
        },
        {
          "output_type": "stream",
          "name": "stdout",
          "text": [
            "Epoch 1/3 loss 2.3327 acc 0.2910 test_loss 1.6212 test_acc 0.4062\n"
          ]
        },
        {
          "output_type": "stream",
          "name": "stderr",
          "text": [
            "training... loss 1.5470 acc 0.4223: 100%|██████████| 49/49 [00:06<00:00,  7.69it/s]\n",
            "testing... loss 1.5404 acc 0.4317: 100%|██████████| 10/10 [00:02<00:00,  3.51it/s]\n"
          ]
        },
        {
          "output_type": "stream",
          "name": "stdout",
          "text": [
            "Epoch 2/3 loss 1.5470 acc 0.4223 test_loss 1.5404 test_acc 0.4317\n"
          ]
        },
        {
          "output_type": "stream",
          "name": "stderr",
          "text": [
            "training... loss 1.5003 acc 0.4450: 100%|██████████| 49/49 [00:07<00:00,  6.18it/s]\n",
            "testing... loss 1.5092 acc 0.4412: 100%|██████████| 10/10 [00:02<00:00,  3.94it/s]\n"
          ]
        },
        {
          "output_type": "stream",
          "name": "stdout",
          "text": [
            "Epoch 3/3 loss 1.5003 acc 0.4450 test_loss 1.5092 test_acc 0.4412\n"
          ]
        },
        {
          "output_type": "stream",
          "name": "stderr",
          "text": [
            "training... loss 85.5802: 100%|██████████| 49/49 [00:45<00:00,  1.07it/s]\n"
          ]
        },
        {
          "output_type": "stream",
          "name": "stdout",
          "text": [
            "Adjusting learning rate of group 0 to 9.7792e-02.\n",
            "Epoch 51/500 loss 85.5802 acc 0.4450 test_acc 0.4412\n"
          ]
        },
        {
          "output_type": "stream",
          "name": "stderr",
          "text": [
            "training... loss 85.1871: 100%|██████████| 49/49 [00:43<00:00,  1.12it/s]\n"
          ]
        },
        {
          "output_type": "stream",
          "name": "stdout",
          "text": [
            "Adjusting learning rate of group 0 to 9.7698e-02.\n",
            "Epoch 52/500 loss 85.1871 acc 0.4450 test_acc 0.4412\n"
          ]
        },
        {
          "output_type": "stream",
          "name": "stderr",
          "text": [
            "training... loss 85.1566: 100%|██████████| 49/49 [00:49<00:00,  1.00s/it]\n"
          ]
        },
        {
          "output_type": "stream",
          "name": "stdout",
          "text": [
            "Adjusting learning rate of group 0 to 9.7602e-02.\n",
            "Epoch 53/500 loss 85.1566 acc 0.4450 test_acc 0.4412\n"
          ]
        },
        {
          "output_type": "stream",
          "name": "stderr",
          "text": [
            "training... loss 84.9190: 100%|██████████| 49/49 [00:46<00:00,  1.06it/s]\n"
          ]
        },
        {
          "output_type": "stream",
          "name": "stdout",
          "text": [
            "Adjusting learning rate of group 0 to 9.7504e-02.\n",
            "Epoch 54/500 loss 84.9190 acc 0.4450 test_acc 0.4412\n"
          ]
        },
        {
          "output_type": "stream",
          "name": "stderr",
          "text": [
            "training... loss 84.3515: 100%|██████████| 49/49 [00:46<00:00,  1.06it/s]\n"
          ]
        },
        {
          "output_type": "stream",
          "name": "stdout",
          "text": [
            "Adjusting learning rate of group 0 to 9.7404e-02.\n",
            "Epoch 55/500 loss 84.3515 acc 0.4450 test_acc 0.4412\n"
          ]
        },
        {
          "output_type": "stream",
          "name": "stderr",
          "text": [
            "training... loss 83.2506: 100%|██████████| 49/49 [00:49<00:00,  1.00s/it]\n"
          ]
        },
        {
          "output_type": "stream",
          "name": "stdout",
          "text": [
            "Adjusting learning rate of group 0 to 9.7302e-02.\n",
            "Epoch 56/500 loss 83.2506 acc 0.4450 test_acc 0.4412\n"
          ]
        },
        {
          "output_type": "stream",
          "name": "stderr",
          "text": [
            "training... loss 83.5989: 100%|██████████| 49/49 [00:46<00:00,  1.05it/s]\n"
          ]
        },
        {
          "output_type": "stream",
          "name": "stdout",
          "text": [
            "Adjusting learning rate of group 0 to 9.7198e-02.\n",
            "Epoch 57/500 loss 83.5989 acc 0.4450 test_acc 0.4412\n"
          ]
        },
        {
          "output_type": "stream",
          "name": "stderr",
          "text": [
            "training... loss 82.3742: 100%|██████████| 49/49 [00:44<00:00,  1.11it/s]\n"
          ]
        },
        {
          "output_type": "stream",
          "name": "stdout",
          "text": [
            "Adjusting learning rate of group 0 to 9.7092e-02.\n",
            "Epoch 58/500 loss 82.3742 acc 0.4450 test_acc 0.4412\n"
          ]
        },
        {
          "output_type": "stream",
          "name": "stderr",
          "text": [
            "training... loss 81.7709: 100%|██████████| 49/49 [00:46<00:00,  1.06it/s]\n"
          ]
        },
        {
          "output_type": "stream",
          "name": "stdout",
          "text": [
            "Adjusting learning rate of group 0 to 9.6985e-02.\n",
            "Epoch 59/500 loss 81.7709 acc 0.4450 test_acc 0.4412\n"
          ]
        },
        {
          "output_type": "stream",
          "name": "stderr",
          "text": [
            "training... loss 81.5223: 100%|██████████| 49/49 [00:45<00:00,  1.09it/s]\n"
          ]
        },
        {
          "output_type": "stream",
          "name": "stdout",
          "text": [
            "Adjusting learning rate of group 0 to 9.6875e-02.\n",
            "Epoch 60/500 loss 81.5223 acc 0.4450 test_acc 0.4412\n",
            "evaluating ...\n",
            "Files already downloaded and verified\n",
            "Files already downloaded and verified\n"
          ]
        },
        {
          "output_type": "stream",
          "name": "stderr",
          "text": [
            "training... loss 2.4299 acc 0.2998: 100%|██████████| 49/49 [00:08<00:00,  5.96it/s]\n",
            "testing... loss 1.5730 acc 0.4169: 100%|██████████| 10/10 [00:03<00:00,  3.31it/s]\n"
          ]
        },
        {
          "output_type": "stream",
          "name": "stdout",
          "text": [
            "Epoch 1/3 loss 2.4299 acc 0.2998 test_loss 1.5730 test_acc 0.4169\n"
          ]
        },
        {
          "output_type": "stream",
          "name": "stderr",
          "text": [
            "training... loss 1.5135 acc 0.4430: 100%|██████████| 49/49 [00:06<00:00,  7.71it/s]\n",
            "testing... loss 1.4919 acc 0.4435: 100%|██████████| 10/10 [00:02<00:00,  3.38it/s]\n"
          ]
        },
        {
          "output_type": "stream",
          "name": "stdout",
          "text": [
            "Epoch 2/3 loss 1.5135 acc 0.4430 test_loss 1.4919 test_acc 0.4435\n"
          ]
        },
        {
          "output_type": "stream",
          "name": "stderr",
          "text": [
            "training... loss 1.4641 acc 0.4641: 100%|██████████| 49/49 [00:07<00:00,  6.42it/s]\n",
            "testing... loss 1.4646 acc 0.4606: 100%|██████████| 10/10 [00:02<00:00,  3.83it/s]\n"
          ]
        },
        {
          "output_type": "stream",
          "name": "stdout",
          "text": [
            "Epoch 3/3 loss 1.4641 acc 0.4641 test_loss 1.4646 test_acc 0.4606\n"
          ]
        },
        {
          "output_type": "stream",
          "name": "stderr",
          "text": [
            "training... loss 81.9756: 100%|██████████| 49/49 [00:46<00:00,  1.06it/s]\n"
          ]
        },
        {
          "output_type": "stream",
          "name": "stdout",
          "text": [
            "Adjusting learning rate of group 0 to 9.6764e-02.\n",
            "Epoch 61/500 loss 81.9756 acc 0.4641 test_acc 0.4606\n"
          ]
        },
        {
          "output_type": "stream",
          "name": "stderr",
          "text": [
            "training... loss 81.4250: 100%|██████████| 49/49 [00:48<00:00,  1.00it/s]\n"
          ]
        },
        {
          "output_type": "stream",
          "name": "stdout",
          "text": [
            "Adjusting learning rate of group 0 to 9.6651e-02.\n",
            "Epoch 62/500 loss 81.4250 acc 0.4641 test_acc 0.4606\n"
          ]
        },
        {
          "output_type": "stream",
          "name": "stderr",
          "text": [
            "training... loss 79.9971: 100%|██████████| 49/49 [00:44<00:00,  1.11it/s]\n"
          ]
        },
        {
          "output_type": "stream",
          "name": "stdout",
          "text": [
            "Adjusting learning rate of group 0 to 9.6535e-02.\n",
            "Epoch 63/500 loss 79.9971 acc 0.4641 test_acc 0.4606\n"
          ]
        },
        {
          "output_type": "stream",
          "name": "stderr",
          "text": [
            "training... loss 80.2456: 100%|██████████| 49/49 [00:44<00:00,  1.09it/s]\n"
          ]
        },
        {
          "output_type": "stream",
          "name": "stdout",
          "text": [
            "Adjusting learning rate of group 0 to 9.6418e-02.\n",
            "Epoch 64/500 loss 80.2456 acc 0.4641 test_acc 0.4606\n"
          ]
        },
        {
          "output_type": "stream",
          "name": "stderr",
          "text": [
            "training... loss 80.1361: 100%|██████████| 49/49 [00:49<00:00,  1.00s/it]\n"
          ]
        },
        {
          "output_type": "stream",
          "name": "stdout",
          "text": [
            "Adjusting learning rate of group 0 to 9.6300e-02.\n",
            "Epoch 65/500 loss 80.1361 acc 0.4641 test_acc 0.4606\n"
          ]
        },
        {
          "output_type": "stream",
          "name": "stderr",
          "text": [
            "training... loss 81.5848: 100%|██████████| 49/49 [00:43<00:00,  1.13it/s]\n"
          ]
        },
        {
          "output_type": "stream",
          "name": "stdout",
          "text": [
            "Adjusting learning rate of group 0 to 9.6179e-02.\n",
            "Epoch 66/500 loss 81.5848 acc 0.4641 test_acc 0.4606\n"
          ]
        },
        {
          "output_type": "stream",
          "name": "stderr",
          "text": [
            "training... loss 79.2586: 100%|██████████| 49/49 [00:45<00:00,  1.08it/s]\n"
          ]
        },
        {
          "output_type": "stream",
          "name": "stdout",
          "text": [
            "Adjusting learning rate of group 0 to 9.6056e-02.\n",
            "Epoch 67/500 loss 79.2586 acc 0.4641 test_acc 0.4606\n"
          ]
        },
        {
          "output_type": "stream",
          "name": "stderr",
          "text": [
            "training... loss 79.0211: 100%|██████████| 49/49 [00:48<00:00,  1.00it/s]\n"
          ]
        },
        {
          "output_type": "stream",
          "name": "stdout",
          "text": [
            "Adjusting learning rate of group 0 to 9.5932e-02.\n",
            "Epoch 68/500 loss 79.0211 acc 0.4641 test_acc 0.4606\n"
          ]
        },
        {
          "output_type": "stream",
          "name": "stderr",
          "text": [
            "training... loss 79.5503: 100%|██████████| 49/49 [00:44<00:00,  1.10it/s]\n"
          ]
        },
        {
          "output_type": "stream",
          "name": "stdout",
          "text": [
            "Adjusting learning rate of group 0 to 9.5805e-02.\n",
            "Epoch 69/500 loss 79.5503 acc 0.4641 test_acc 0.4606\n"
          ]
        },
        {
          "output_type": "stream",
          "name": "stderr",
          "text": [
            "training... loss 79.8979: 100%|██████████| 49/49 [00:44<00:00,  1.11it/s]\n"
          ]
        },
        {
          "output_type": "stream",
          "name": "stdout",
          "text": [
            "Adjusting learning rate of group 0 to 9.5677e-02.\n",
            "Epoch 70/500 loss 79.8979 acc 0.4641 test_acc 0.4606\n",
            "evaluating ...\n",
            "Files already downloaded and verified\n",
            "Files already downloaded and verified\n"
          ]
        },
        {
          "output_type": "stream",
          "name": "stderr",
          "text": [
            "training... loss 2.4089 acc 0.3262: 100%|██████████| 49/49 [00:07<00:00,  6.56it/s]\n",
            "testing... loss 1.5681 acc 0.4330: 100%|██████████| 10/10 [00:04<00:00,  2.09it/s]\n"
          ]
        },
        {
          "output_type": "stream",
          "name": "stdout",
          "text": [
            "Epoch 1/3 loss 2.4089 acc 0.3262 test_loss 1.5681 test_acc 0.4330\n"
          ]
        },
        {
          "output_type": "stream",
          "name": "stderr",
          "text": [
            "training... loss 1.4887 acc 0.4499: 100%|██████████| 49/49 [00:08<00:00,  6.03it/s]\n",
            "testing... loss 1.4598 acc 0.4691: 100%|██████████| 10/10 [00:02<00:00,  3.81it/s]\n"
          ]
        },
        {
          "output_type": "stream",
          "name": "stdout",
          "text": [
            "Epoch 2/3 loss 1.4887 acc 0.4499 test_loss 1.4598 test_acc 0.4691\n"
          ]
        },
        {
          "output_type": "stream",
          "name": "stderr",
          "text": [
            "training... loss 1.4391 acc 0.4653: 100%|██████████| 49/49 [00:08<00:00,  5.70it/s]\n",
            "testing... loss 1.4246 acc 0.4852: 100%|██████████| 10/10 [00:02<00:00,  3.53it/s]\n"
          ]
        },
        {
          "output_type": "stream",
          "name": "stdout",
          "text": [
            "Epoch 3/3 loss 1.4391 acc 0.4653 test_loss 1.4246 test_acc 0.4852\n"
          ]
        },
        {
          "output_type": "stream",
          "name": "stderr",
          "text": [
            "training... loss 78.3618: 100%|██████████| 49/49 [00:44<00:00,  1.11it/s]\n"
          ]
        },
        {
          "output_type": "stream",
          "name": "stdout",
          "text": [
            "Adjusting learning rate of group 0 to 9.5547e-02.\n",
            "Epoch 71/500 loss 78.3618 acc 0.4653 test_acc 0.4852\n"
          ]
        },
        {
          "output_type": "stream",
          "name": "stderr",
          "text": [
            "training... loss 77.5182: 100%|██████████| 49/49 [00:44<00:00,  1.11it/s]\n"
          ]
        },
        {
          "output_type": "stream",
          "name": "stdout",
          "text": [
            "Adjusting learning rate of group 0 to 9.5415e-02.\n",
            "Epoch 72/500 loss 77.5182 acc 0.4653 test_acc 0.4852\n"
          ]
        },
        {
          "output_type": "stream",
          "name": "stderr",
          "text": [
            "training... loss 78.2852: 100%|██████████| 49/49 [00:48<00:00,  1.01it/s]\n"
          ]
        },
        {
          "output_type": "stream",
          "name": "stdout",
          "text": [
            "Adjusting learning rate of group 0 to 9.5282e-02.\n",
            "Epoch 73/500 loss 78.2852 acc 0.4653 test_acc 0.4852\n"
          ]
        },
        {
          "output_type": "stream",
          "name": "stderr",
          "text": [
            "training... loss 79.2693: 100%|██████████| 49/49 [00:46<00:00,  1.06it/s]\n"
          ]
        },
        {
          "output_type": "stream",
          "name": "stdout",
          "text": [
            "Adjusting learning rate of group 0 to 9.5146e-02.\n",
            "Epoch 74/500 loss 79.2693 acc 0.4653 test_acc 0.4852\n"
          ]
        },
        {
          "output_type": "stream",
          "name": "stderr",
          "text": [
            "training... loss 77.2804: 100%|██████████| 49/49 [00:43<00:00,  1.13it/s]\n"
          ]
        },
        {
          "output_type": "stream",
          "name": "stdout",
          "text": [
            "Adjusting learning rate of group 0 to 9.5009e-02.\n",
            "Epoch 75/500 loss 77.2804 acc 0.4653 test_acc 0.4852\n"
          ]
        },
        {
          "output_type": "stream",
          "name": "stderr",
          "text": [
            "training... loss 74.8938:  80%|███████▉  | 39/49 [00:43<00:03,  2.96it/s]"
          ]
        }
      ]
    },
    {
      "cell_type": "code",
      "source": [
        "fig = plt.figure(figsize=(10, 3), dpi=100)\n",
        "ax = plt.subplot(1, 2, 1)\n",
        "ax.plot(hist['loss'])\n",
        "ax.legend(['loss'])\n",
        "ax.grid(True)\n",
        "ax = plt.subplot(1, 2, 2)\n",
        "ax.plot(hist['acc'])\n",
        "ax.plot(hist['test_acc'])\n",
        "ax.legend(['acc', 'test_acc'])\n",
        "ax.grid(True)\n",
        "plt.show()"
      ],
      "metadata": {
        "id": "Wq0Z85xoKSj1"
      },
      "execution_count": null,
      "outputs": []
    }
  ]
}